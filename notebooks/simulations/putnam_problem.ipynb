{
 "cells": [
  {
   "cell_type": "markdown",
   "metadata": {},
   "source": [
    "# Q1 - Putnam Problem\n",
    "Given a random permutation of 1,2,..., n <br>\n",
    "Find the expected # of local maxima"
   ]
  },
  {
   "cell_type": "code",
   "execution_count": 31,
   "metadata": {
    "ExecuteTime": {
     "end_time": "2020-11-28T09:12:01.854915Z",
     "start_time": "2020-11-28T09:12:01.850483Z"
    }
   },
   "outputs": [],
   "source": [
    "import pandas as pd\n",
    "import numpy as np"
   ]
  },
  {
   "cell_type": "code",
   "execution_count": 32,
   "metadata": {
    "ExecuteTime": {
     "end_time": "2020-11-28T09:12:03.017758Z",
     "start_time": "2020-11-28T09:12:01.858483Z"
    },
    "code_folding": [
     0,
     2
    ]
   },
   "outputs": [],
   "source": [
    "# Define a function to run simulation\n",
    "\n",
    "def find_n_maxima(n):\n",
    "    values     = np.random.randint(low = 1, high = n+1, size = n)\n",
    "    maxima_idx = []\n",
    "    \n",
    "    for idx, value in enumerate(values):\n",
    "        if idx > 0 and idx < len(values) - 1:\n",
    "            neighbours    = [values[idx-1], values[idx+1]]\n",
    "        elif idx == 0:\n",
    "            neighbours    = [values[idx+1]]\n",
    "        elif idx < len(values) - 1:\n",
    "            neighbours    = [values[idx-1]]\n",
    "            \n",
    "        if value > max(neighbours):\n",
    "            maxima_idx.append(idx)\n",
    "    \n",
    "    return len(maxima_idx)"
   ]
  },
  {
   "cell_type": "code",
   "execution_count": 33,
   "metadata": {
    "ExecuteTime": {
     "end_time": "2020-11-28T09:13:17.112555Z",
     "start_time": "2020-11-28T09:12:03.023497Z"
    },
    "code_folding": [
     0,
     7
    ]
   },
   "outputs": [],
   "source": [
    "# Run simulations\n",
    "\n",
    "n      = 31\n",
    "n_sims = 1000000\n",
    "\n",
    "results = []\n",
    "\n",
    "for _ in range(n_sims):\n",
    "    results.append(find_n_maxima(n))"
   ]
  },
  {
   "cell_type": "code",
   "execution_count": 34,
   "metadata": {
    "ExecuteTime": {
     "end_time": "2020-11-28T09:13:21.792906Z",
     "start_time": "2020-11-28T09:13:17.116513Z"
    },
    "code_folding": [
     0
    ]
   },
   "outputs": [
    {
     "data": {
      "image/png": "[encoded data removed]",
      "text/plain": [
       "<Figure size 1152x432 with 2 Axes>"
      ]
     },
     "metadata": {
      "needs_background": "light"
     },
     "output_type": "display_data"
    }
   ],
   "source": [
    "# Plot results\n",
    "\n",
    "import seaborn as sns\n",
    "import matplotlib.pyplot as plt\n",
    "\n",
    "fig = plt.figure(figsize = (16,6))\n",
    "ax1 = fig.add_subplot(121)\n",
    "ax2 = fig.add_subplot(122)\n",
    "\n",
    "sns.boxplot(data = results, orient = 'v', ax = ax1)\n",
    "sns.histplot(data = results, ax = ax2)\n",
    "\n",
    "expectation = (n-1)/3\n",
    "ax1.set_title('True expectation of # Local Maximas = {:.0f}'.format(expectation), loc = 'left', fontweight = 'bold')\n",
    "\n",
    "plt.show()"
   ]
  }
 ],
 "metadata": {
  "kernelspec": {
   "display_name": "Python - Infinite small 4G",
   "language": "python",
   "name": "doh_4g"
  },
  "language_info": {
   "codemirror_mode": {
    "name": "ipython",
    "version": 3
   },
   "file_extension": ".py",
   "mimetype": "text/x-python",
   "name": "python",
   "nbconvert_exporter": "python",
   "pygments_lexer": "ipython3",
   "version": "3.6.9"
  },
  "toc": {
   "base_numbering": 1,
   "nav_menu": {},
   "number_sections": true,
   "sideBar": true,
   "skip_h1_title": false,
   "title_cell": "Table of Contents",
   "title_sidebar": "Contents",
   "toc_cell": false,
   "toc_position": {},
   "toc_section_display": true,
   "toc_window_display": false
  }
 },
 "nbformat": 4,
 "nbformat_minor": 2
}
