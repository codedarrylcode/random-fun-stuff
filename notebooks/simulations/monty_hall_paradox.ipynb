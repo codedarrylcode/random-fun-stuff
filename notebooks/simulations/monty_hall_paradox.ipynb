{
 "cells": [
  {
   "cell_type": "markdown",
   "metadata": {},
   "source": [
    "# Play game"
   ]
  },
  {
   "cell_type": "code",
   "execution_count": 1,
   "metadata": {
    "ExecuteTime": {
     "end_time": "2021-06-22T02:50:14.025377Z",
     "start_time": "2021-06-22T02:50:13.489395Z"
    },
    "code_folding": []
   },
   "outputs": [],
   "source": [
    "# Load essential libraries\n",
    "import pandas as pd\n",
    "import numpy as np"
   ]
  },
  {
   "cell_type": "code",
   "execution_count": 2,
   "metadata": {
    "ExecuteTime": {
     "end_time": "2021-06-22T02:50:14.035061Z",
     "start_time": "2021-06-22T02:50:14.027131Z"
    },
    "code_folding": [
     1,
     3,
     10,
     13,
     16,
     21,
     23,
     25,
     29,
     32,
     39,
     46,
     55,
     62,
     64
    ]
   },
   "outputs": [],
   "source": [
    "# Define Monty Hall class\n",
    "class MontyHall():\n",
    "    # Game attributes\n",
    "    def __init__(self, n_doors = 3, p = [1/3, 1/3, 1/3]):\n",
    "        self.n_doors     = n_doors\n",
    "        self.p_array     = p\n",
    "        self.win_door    = np.random.choice([1,2,3], p = self.p_array)\n",
    "        self.player_door = np.random.choice([1,2,3], p = self.p_array)\n",
    "\n",
    "    # Game Methods    \n",
    "    def reveal_door(self):\n",
    "        remaining_options   = [n for n in [1,2,3] if n not in [self.win_door, self.player_door]]    \n",
    "        self.revealed_door  = np.random.choice(remaining_options)                \n",
    "    def switch_door(self):\n",
    "        options          = [n for n in [1,2,3] if n not in [self.revealed_door, self.player_door]]\n",
    "        self.player_door = options[0]\n",
    "    def evaluate_result(self):\n",
    "        if self.player_door == self.win_door:\n",
    "            return 1\n",
    "        else:\n",
    "            return 0\n",
    "    def get_revealed_door(self):\n",
    "        return self.revealed_door\n",
    "    def get_player_door(self):\n",
    "        return self.player_door\n",
    "    def __str__(self):\n",
    "        return 'Winning Door: {}'.format(self.win_door) + \" | \" + 'Player Pick: {}'.format(self.player_door)\n",
    "\n",
    "# Define function to run game\n",
    "def play_monty_hall_game(shouldSwitch: bool = True, shouldPrint: bool = False):\n",
    "    # Start the game, prize door is randomly chosen and player picks door randomly\n",
    "    game = MontyHall()\n",
    "    if shouldPrint:\n",
    "        print('Stage\\t\\t', 'Outcome')\n",
    "        print('-'*8, '\\t', '-'*50)\n",
    "        print('[START]\\t\\t', game)\n",
    "\n",
    "    # Host reveals door!\n",
    "    game.reveal_door()\n",
    "    if shouldPrint:\n",
    "        revealed = game.get_revealed_door()\n",
    "        print('[REVEAL]\\t Door {} was revealed!'.format(revealed))\n",
    "\n",
    "    # Does player switch?\n",
    "    if shouldSwitch:\n",
    "        game.switch_door()\n",
    "    if shouldPrint:\n",
    "        player_door = game.get_player_door()\n",
    "        if shouldSwitch:\n",
    "            print('[SWITCH]\\t Player Switches to Door {}'.format(player_door))\n",
    "        else:\n",
    "            pass\n",
    "\n",
    "    # Did the player win?\n",
    "    result = game.evaluate_result()\n",
    "    if shouldPrint:\n",
    "        print('[END]\\t\\t', game)\n",
    "        if result:\n",
    "            print('[RESULT]\\t Player Wins!')\n",
    "        else:\n",
    "            print('[RESULT]\\t Player lost :(')\n",
    "\n",
    "    if shouldPrint:\n",
    "        pass\n",
    "    else:\n",
    "        return result"
   ]
  },
  {
   "cell_type": "code",
   "execution_count": 8,
   "metadata": {
    "ExecuteTime": {
     "end_time": "2021-06-22T02:55:56.750563Z",
     "start_time": "2021-06-22T02:55:56.748503Z"
    },
    "code_folding": []
   },
   "outputs": [],
   "source": [
    "# Define strategy\n",
    "shouldSwitch = False"
   ]
  },
  {
   "cell_type": "code",
   "execution_count": 9,
   "metadata": {
    "ExecuteTime": {
     "end_time": "2021-06-22T02:55:56.769703Z",
     "start_time": "2021-06-22T02:55:56.752931Z"
    },
    "code_folding": []
   },
   "outputs": [
    {
     "name": "stdout",
     "output_type": "stream",
     "text": [
      "Stage\t\t Outcome\n",
      "-------- \t --------------------------------------------------\n",
      "[START]\t\t Winning Door: 3 | Player Pick: 1\n",
      "[REVEAL]\t Door 2 was revealed!\n",
      "[END]\t\t Winning Door: 3 | Player Pick: 1\n",
      "[RESULT]\t Player lost :(\n"
     ]
    }
   ],
   "source": [
    "# Run 1 game!\n",
    "play_monty_hall_game(shouldSwitch, shouldPrint = True)"
   ]
  },
  {
   "cell_type": "markdown",
   "metadata": {},
   "source": [
    "# Simulate!"
   ]
  },
  {
   "cell_type": "code",
   "execution_count": 10,
   "metadata": {
    "ExecuteTime": {
     "end_time": "2021-06-22T02:55:56.846828Z",
     "start_time": "2021-06-22T02:55:56.771250Z"
    },
    "code_folding": []
   },
   "outputs": [],
   "source": [
    "# Let's play the game X times!\n",
    "n_iterations       = 10**3\n",
    "monty_hall_results = [play_monty_hall_game(shouldSwitch) for _ in range(n_iterations)]"
   ]
  },
  {
   "cell_type": "code",
   "execution_count": 11,
   "metadata": {
    "ExecuteTime": {
     "end_time": "2021-06-22T02:55:56.875094Z",
     "start_time": "2021-06-22T02:55:56.848277Z"
    },
    "code_folding": []
   },
   "outputs": [
    {
     "data": {
      "text/html": [
       "<div>\n",
       "<style scoped>\n",
       "    .dataframe tbody tr th:only-of-type {\n",
       "        vertical-align: middle;\n",
       "    }\n",
       "\n",
       "    .dataframe tbody tr th {\n",
       "        vertical-align: top;\n",
       "    }\n",
       "\n",
       "    .dataframe thead th {\n",
       "        text-align: right;\n",
       "    }\n",
       "</style>\n",
       "<table border=\"1\" class=\"dataframe\">\n",
       "  <thead>\n",
       "    <tr style=\"text-align: right;\">\n",
       "      <th></th>\n",
       "      <th>prob_win</th>\n",
       "      <th>lower_bound</th>\n",
       "      <th>upper_bound</th>\n",
       "      <th>experiment_no</th>\n",
       "      <th>shouldSwitch</th>\n",
       "    </tr>\n",
       "  </thead>\n",
       "  <tbody>\n",
       "    <tr>\n",
       "      <th>995</th>\n",
       "      <td>0.348394</td>\n",
       "      <td>0.317341</td>\n",
       "      <td>0.379446</td>\n",
       "      <td>996</td>\n",
       "      <td>False</td>\n",
       "    </tr>\n",
       "    <tr>\n",
       "      <th>996</th>\n",
       "      <td>0.349047</td>\n",
       "      <td>0.318010</td>\n",
       "      <td>0.380084</td>\n",
       "      <td>997</td>\n",
       "      <td>False</td>\n",
       "    </tr>\n",
       "    <tr>\n",
       "      <th>997</th>\n",
       "      <td>0.349699</td>\n",
       "      <td>0.318678</td>\n",
       "      <td>0.380721</td>\n",
       "      <td>998</td>\n",
       "      <td>False</td>\n",
       "    </tr>\n",
       "    <tr>\n",
       "      <th>998</th>\n",
       "      <td>0.350350</td>\n",
       "      <td>0.319345</td>\n",
       "      <td>0.381356</td>\n",
       "      <td>999</td>\n",
       "      <td>False</td>\n",
       "    </tr>\n",
       "    <tr>\n",
       "      <th>999</th>\n",
       "      <td>0.351000</td>\n",
       "      <td>0.320010</td>\n",
       "      <td>0.381990</td>\n",
       "      <td>1000</td>\n",
       "      <td>False</td>\n",
       "    </tr>\n",
       "  </tbody>\n",
       "</table>\n",
       "</div>"
      ],
      "text/plain": [
       "     prob_win  lower_bound  upper_bound  experiment_no  shouldSwitch\n",
       "995  0.348394     0.317341     0.379446            996         False\n",
       "996  0.349047     0.318010     0.380084            997         False\n",
       "997  0.349699     0.318678     0.380721            998         False\n",
       "998  0.350350     0.319345     0.381356            999         False\n",
       "999  0.351000     0.320010     0.381990           1000         False"
      ]
     },
     "metadata": {},
     "output_type": "display_data"
    }
   ],
   "source": [
    "# Store results into a table!\n",
    "p_win = (\n",
    "            pd\n",
    "            .Series(monty_hall_results)  \n",
    "            .expanding()\n",
    "            .mean()\n",
    "            .to_frame(name = 'prob_win')\n",
    "            .assign(lower_bound = lambda x: np.maximum(x.prob_win - (1.96/(2*np.sqrt(x.index+1))), 0))\n",
    "            .assign(upper_bound = lambda x: np.minimum(x.prob_win + (1.96/(2*np.sqrt(x.index+1))), 1))\n",
    "            .assign(experiment_no = lambda x: x.index+1)\n",
    "            .assign(shouldSwitch = shouldSwitch)\n",
    "        )\n",
    "display(p_win.tail())"
   ]
  },
  {
   "cell_type": "markdown",
   "metadata": {},
   "source": [
    "# Make a fancy plot!"
   ]
  },
  {
   "cell_type": "code",
   "execution_count": 12,
   "metadata": {
    "ExecuteTime": {
     "end_time": "2021-06-22T02:55:57.079520Z",
     "start_time": "2021-06-22T02:55:56.876336Z"
    },
    "code_folding": []
   },
   "outputs": [
    {
     "data": {
      "image/png": "[encoded data removed]",
      "text/plain": [
       "<Figure size 1152x576 with 1 Axes>"
      ]
     },
     "metadata": {},
     "output_type": "display_data"
    }
   ],
   "source": [
    "# Fancy a fancy plot?\n",
    "import matplotlib.pyplot as plt \n",
    "import seaborn as sns\n",
    "\n",
    "## Plot data\n",
    "plt.figure(figsize = (16,8))\n",
    "sns.lineplot(data = p_win, x = 'experiment_no', y = 'prob_win', markers = True)\n",
    "plt.fill_between(p_win.experiment_no, p_win.lower_bound, p_win.upper_bound, alpha = .2)\n",
    "\n",
    "## Headline title\n",
    "p_hat, p_lower, p_upper, n_iteration, strategy = p_win.tail(1).values[0]\n",
    "plot_title                           = f\"\"\"Did we switch? {strategy} \\n\\nProbability of Winning: {p_hat:.1%} ({p_lower:.0%} - {p_upper:.0%}, with 95% Confidence)\"\"\"\n",
    "plt.title(plot_title, loc = 'left', fontweight = 'bold')\n",
    "\n",
    "sns.set_theme()\n",
    "plt.show()"
   ]
  }
 ],
 "metadata": {
  "kernelspec": {
   "display_name": "Python 3.8 - Modest 4G",
   "language": "python",
   "name": "doh_4g"
  },
  "language_info": {
   "codemirror_mode": {
    "name": "ipython",
    "version": 3
   },
   "file_extension": ".py",
   "mimetype": "text/x-python",
   "name": "python",
   "nbconvert_exporter": "python",
   "pygments_lexer": "ipython3",
   "version": "3.8.6"
  },
  "toc": {
   "base_numbering": 1,
   "nav_menu": {},
   "number_sections": true,
   "sideBar": true,
   "skip_h1_title": false,
   "title_cell": "Table of Contents",
   "title_sidebar": "Contents",
   "toc_cell": false,
   "toc_position": {},
   "toc_section_display": true,
   "toc_window_display": false
  }
 },
 "nbformat": 4,
 "nbformat_minor": 2
}
