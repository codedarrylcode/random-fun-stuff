{
 "cells": [
  {
   "cell_type": "markdown",
   "metadata": {},
   "source": [
    "#### Suppose a claim on gender discriminatory hiring practices has been launched against your organization but you believe otherwise as there have been strict audits conducted for hiring processes and educating on hidden biases.\n",
    "\n",
    "Prove that headline numbers do not imply discriminatory hiring practices"
   ]
  },
  {
   "cell_type": "code",
   "execution_count": 1,
   "metadata": {
    "ExecuteTime": {
     "end_time": "2020-10-27T12:57:46.806735Z",
     "start_time": "2020-10-27T12:57:46.264183Z"
    }
   },
   "outputs": [],
   "source": [
    "import pandas as pd\n",
    "import numpy as np"
   ]
  },
  {
   "cell_type": "code",
   "execution_count": 2,
   "metadata": {
    "ExecuteTime": {
     "end_time": "2020-10-27T12:57:46.813328Z",
     "start_time": "2020-10-27T12:57:46.809015Z"
    }
   },
   "outputs": [],
   "source": [
    "# Argument: Sizes of departments are different due to strategic reasons\n",
    "\n",
    "dep_proportions = [0.8, 0.7, 0.1] # Female to male proportion in each department\n",
    "size = [10, 30, 960]\n",
    "pct_females = sum([int(a*b) for a,b in zip(dep_proportions,size)]) / sum(size) * 100\n",
    "\n",
    "comp_proportions = [0.6, 0.4, 0.05]\n",
    "comp_size = [900, 80, 20]\n",
    "comp_females = sum([int(a*b) for a,b in zip(comp_proportions,comp_size)]) / sum(comp_size) * 100"
   ]
  },
  {
   "cell_type": "code",
   "execution_count": 3,
   "metadata": {
    "ExecuteTime": {
     "end_time": "2020-10-27T12:57:46.817996Z",
     "start_time": "2020-10-27T12:57:46.815332Z"
    }
   },
   "outputs": [
    {
     "name": "stdout",
     "output_type": "stream",
     "text": [
      "True\n"
     ]
    }
   ],
   "source": [
    "# Check if company has higher proportions for all departments\n",
    "\n",
    "print(all([a > b for a,b in zip(dep_proportions, comp_proportions)]))"
   ]
  },
  {
   "cell_type": "code",
   "execution_count": 4,
   "metadata": {
    "ExecuteTime": {
     "end_time": "2020-10-27T12:57:46.821935Z",
     "start_time": "2020-10-27T12:57:46.819705Z"
    }
   },
   "outputs": [
    {
     "name": "stdout",
     "output_type": "stream",
     "text": [
      "False\n"
     ]
    }
   ],
   "source": [
    "# Yet... we have lower female hiring rates than our competitor...\n",
    "\n",
    "print(pct_females > comp_females)"
   ]
  }
 ],
 "metadata": {
  "kernelspec": {
   "display_name": "Python - Infinite small 4G",
   "language": "python",
   "name": "doh_4g"
  },
  "language_info": {
   "codemirror_mode": {
    "name": "ipython",
    "version": 3
   },
   "file_extension": ".py",
   "mimetype": "text/x-python",
   "name": "python",
   "nbconvert_exporter": "python",
   "pygments_lexer": "ipython3",
   "version": "3.6.9"
  },
  "toc": {
   "base_numbering": 1,
   "nav_menu": {},
   "number_sections": true,
   "sideBar": true,
   "skip_h1_title": false,
   "title_cell": "Table of Contents",
   "title_sidebar": "Contents",
   "toc_cell": false,
   "toc_position": {},
   "toc_section_display": true,
   "toc_window_display": false
  }
 },
 "nbformat": 4,
 "nbformat_minor": 2
}
