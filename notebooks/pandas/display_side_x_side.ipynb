{
 "cells": [
  {
   "cell_type": "code",
   "execution_count": 5,
   "metadata": {
    "ExecuteTime": {
     "end_time": "2020-02-05T06:35:33.153149Z",
     "start_time": "2020-02-05T06:35:33.149820Z"
    }
   },
   "outputs": [],
   "source": [
    "import pandas as pd\n",
    "import numpy as np"
   ]
  },
  {
   "cell_type": "code",
   "execution_count": 6,
   "metadata": {
    "ExecuteTime": {
     "end_time": "2020-02-05T06:35:34.162484Z",
     "start_time": "2020-02-05T06:35:34.156070Z"
    }
   },
   "outputs": [],
   "source": [
    "# Display Settings\n",
    "from IPython.core.display import display, HTML\n",
    "\n",
    "def display_side_by_side(dfs:list, captions:list):\n",
    "    \"\"\"Display tables side by side to save vertical space\n",
    "    Input:\n",
    "        dfs: list of pandas.DataFrame\n",
    "        captions: list of table captions\n",
    "    \"\"\"\n",
    "    output = \"\"\n",
    "    combined = dict(zip(captions, dfs))\n",
    "    for caption, df in combined.items():\n",
    "        output += df.style.set_table_attributes(\"style='display:inline'\").set_caption(caption)._repr_html_()\n",
    "        output += \"\\xa0\\xa0\\xa0\"\n",
    "    display(HTML(output))"
   ]
  },
  {
   "cell_type": "code",
   "execution_count": 14,
   "metadata": {
    "ExecuteTime": {
     "end_time": "2020-02-05T06:40:24.696503Z",
     "start_time": "2020-02-05T06:40:22.439932Z"
    }
   },
   "outputs": [
    {
     "data": {
      "text/html": [
       "<style  type=\"text/css\" >\n",
       "</style><table id=\"T_6390cd3c_47e2_11ea_8d5b_f40343c0cf30\" style='display:inline'><caption>caption1</caption><thead>    <tr>        <th class=\"blank level0\" ></th>        <th class=\"col_heading level0 col0\" >0</th>        <th class=\"col_heading level0 col1\" >1</th>        <th class=\"col_heading level0 col2\" >2</th>        <th class=\"col_heading level0 col3\" >3</th>    </tr></thead><tbody>\n",
       "                <tr>\n",
       "                        <th id=\"T_6390cd3c_47e2_11ea_8d5b_f40343c0cf30level0_row0\" class=\"row_heading level0 row0\" >0</th>\n",
       "                        <td id=\"T_6390cd3c_47e2_11ea_8d5b_f40343c0cf30row0_col0\" class=\"data row0 col0\" >0.698267</td>\n",
       "                        <td id=\"T_6390cd3c_47e2_11ea_8d5b_f40343c0cf30row0_col1\" class=\"data row0 col1\" >0.677303</td>\n",
       "                        <td id=\"T_6390cd3c_47e2_11ea_8d5b_f40343c0cf30row0_col2\" class=\"data row0 col2\" >0.966666</td>\n",
       "                        <td id=\"T_6390cd3c_47e2_11ea_8d5b_f40343c0cf30row0_col3\" class=\"data row0 col3\" >0.827825</td>\n",
       "            </tr>\n",
       "            <tr>\n",
       "                        <th id=\"T_6390cd3c_47e2_11ea_8d5b_f40343c0cf30level0_row1\" class=\"row_heading level0 row1\" >1</th>\n",
       "                        <td id=\"T_6390cd3c_47e2_11ea_8d5b_f40343c0cf30row1_col0\" class=\"data row1 col0\" >0.659510</td>\n",
       "                        <td id=\"T_6390cd3c_47e2_11ea_8d5b_f40343c0cf30row1_col1\" class=\"data row1 col1\" >0.529301</td>\n",
       "                        <td id=\"T_6390cd3c_47e2_11ea_8d5b_f40343c0cf30row1_col2\" class=\"data row1 col2\" >0.484393</td>\n",
       "                        <td id=\"T_6390cd3c_47e2_11ea_8d5b_f40343c0cf30row1_col3\" class=\"data row1 col3\" >0.872364</td>\n",
       "            </tr>\n",
       "            <tr>\n",
       "                        <th id=\"T_6390cd3c_47e2_11ea_8d5b_f40343c0cf30level0_row2\" class=\"row_heading level0 row2\" >2</th>\n",
       "                        <td id=\"T_6390cd3c_47e2_11ea_8d5b_f40343c0cf30row2_col0\" class=\"data row2 col0\" >0.709577</td>\n",
       "                        <td id=\"T_6390cd3c_47e2_11ea_8d5b_f40343c0cf30row2_col1\" class=\"data row2 col1\" >0.341627</td>\n",
       "                        <td id=\"T_6390cd3c_47e2_11ea_8d5b_f40343c0cf30row2_col2\" class=\"data row2 col2\" >0.210402</td>\n",
       "                        <td id=\"T_6390cd3c_47e2_11ea_8d5b_f40343c0cf30row2_col3\" class=\"data row2 col3\" >0.242351</td>\n",
       "            </tr>\n",
       "            <tr>\n",
       "                        <th id=\"T_6390cd3c_47e2_11ea_8d5b_f40343c0cf30level0_row3\" class=\"row_heading level0 row3\" >3</th>\n",
       "                        <td id=\"T_6390cd3c_47e2_11ea_8d5b_f40343c0cf30row3_col0\" class=\"data row3 col0\" >0.902620</td>\n",
       "                        <td id=\"T_6390cd3c_47e2_11ea_8d5b_f40343c0cf30row3_col1\" class=\"data row3 col1\" >0.755032</td>\n",
       "                        <td id=\"T_6390cd3c_47e2_11ea_8d5b_f40343c0cf30row3_col2\" class=\"data row3 col2\" >0.182739</td>\n",
       "                        <td id=\"T_6390cd3c_47e2_11ea_8d5b_f40343c0cf30row3_col3\" class=\"data row3 col3\" >0.452149</td>\n",
       "            </tr>\n",
       "            <tr>\n",
       "                        <th id=\"T_6390cd3c_47e2_11ea_8d5b_f40343c0cf30level0_row4\" class=\"row_heading level0 row4\" >4</th>\n",
       "                        <td id=\"T_6390cd3c_47e2_11ea_8d5b_f40343c0cf30row4_col0\" class=\"data row4 col0\" >0.427342</td>\n",
       "                        <td id=\"T_6390cd3c_47e2_11ea_8d5b_f40343c0cf30row4_col1\" class=\"data row4 col1\" >0.331145</td>\n",
       "                        <td id=\"T_6390cd3c_47e2_11ea_8d5b_f40343c0cf30row4_col2\" class=\"data row4 col2\" >0.262860</td>\n",
       "                        <td id=\"T_6390cd3c_47e2_11ea_8d5b_f40343c0cf30row4_col3\" class=\"data row4 col3\" >0.998740</td>\n",
       "            </tr>\n",
       "    </tbody></table>   <style  type=\"text/css\" >\n",
       "</style><table id=\"T_63913452_47e2_11ea_8d5b_f40343c0cf30\" style='display:inline'><caption>caption2</caption><thead>    <tr>        <th class=\"blank level0\" ></th>        <th class=\"col_heading level0 col0\" >0</th>        <th class=\"col_heading level0 col1\" >1</th>    </tr></thead><tbody>\n",
       "                <tr>\n",
       "                        <th id=\"T_63913452_47e2_11ea_8d5b_f40343c0cf30level0_row0\" class=\"row_heading level0 row0\" >0</th>\n",
       "                        <td id=\"T_63913452_47e2_11ea_8d5b_f40343c0cf30row0_col0\" class=\"data row0 col0\" >0.082720</td>\n",
       "                        <td id=\"T_63913452_47e2_11ea_8d5b_f40343c0cf30row0_col1\" class=\"data row0 col1\" >0.906377</td>\n",
       "            </tr>\n",
       "            <tr>\n",
       "                        <th id=\"T_63913452_47e2_11ea_8d5b_f40343c0cf30level0_row1\" class=\"row_heading level0 row1\" >1</th>\n",
       "                        <td id=\"T_63913452_47e2_11ea_8d5b_f40343c0cf30row1_col0\" class=\"data row1 col0\" >0.498073</td>\n",
       "                        <td id=\"T_63913452_47e2_11ea_8d5b_f40343c0cf30row1_col1\" class=\"data row1 col1\" >0.717097</td>\n",
       "            </tr>\n",
       "            <tr>\n",
       "                        <th id=\"T_63913452_47e2_11ea_8d5b_f40343c0cf30level0_row2\" class=\"row_heading level0 row2\" >2</th>\n",
       "                        <td id=\"T_63913452_47e2_11ea_8d5b_f40343c0cf30row2_col0\" class=\"data row2 col0\" >0.452465</td>\n",
       "                        <td id=\"T_63913452_47e2_11ea_8d5b_f40343c0cf30row2_col1\" class=\"data row2 col1\" >0.873839</td>\n",
       "            </tr>\n",
       "    </tbody></table>   "
      ],
      "text/plain": [
       "<IPython.core.display.HTML object>"
      ]
     },
     "metadata": {},
     "output_type": "display_data"
    }
   ],
   "source": [
    "# Generate a random dataset\n",
    "\n",
    "array1 = np.random.rand(5,4)\n",
    "df1 = pd.DataFrame(array1)\n",
    "\n",
    "array2 = np.random.rand(3,2)\n",
    "df2 = pd.DataFrame(array2)\n",
    "\n",
    "display_side_by_side(\n",
    "                    [df1, df2] # Target DataFrames for comparison\n",
    "                    , [\"caption1\", \"caption2\"]\n",
    "                    )"
   ]
  }
 ],
 "metadata": {
  "kernelspec": {
   "display_name": "Python 3.8 - Modest 4G",
   "language": "python",
   "name": "doh_4g"
  },
  "language_info": {
   "codemirror_mode": {
    "name": "ipython",
    "version": 3
   },
   "file_extension": ".py",
   "mimetype": "text/x-python",
   "name": "python",
   "nbconvert_exporter": "python",
   "pygments_lexer": "ipython3",
   "version": "3.8.6"
  },
  "toc": {
   "base_numbering": 1,
   "nav_menu": {},
   "number_sections": true,
   "sideBar": true,
   "skip_h1_title": false,
   "title_cell": "Table of Contents",
   "title_sidebar": "Contents",
   "toc_cell": false,
   "toc_position": {},
   "toc_section_display": true,
   "toc_window_display": false
  }
 },
 "nbformat": 4,
 "nbformat_minor": 2
}
